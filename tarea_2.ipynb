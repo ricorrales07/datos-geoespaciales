{
 "cells": [
  {
   "cell_type": "markdown",
   "id": "c6cd7560-f656-4bca-b4e1-2f111e8fd2ef",
   "metadata": {},
   "source": [
    "# Tarea 02 - Análisis de datos geoespaciales mediante Fiona y Shapely\n",
    "\n",
    "José P. Barrantes - B0043 <br>\n",
    "Ricardo Corrales Barquero - B32090"
   ]
  },
  {
   "cell_type": "markdown",
   "id": "3985c245-18ea-44cb-81bd-e41a7599aa93",
   "metadata": {},
   "source": [
    "En el código a continuación se pretende adquirir datos disponibles en línea, y procesarlos para generar un archivo que contiene información de los límites cantonales, así como de la densidad de carreteras en cada cantón."
   ]
  },
  {
   "cell_type": "markdown",
   "id": "6f220584-8b74-4f18-94f7-d061d75c380a",
   "metadata": {
    "tags": []
   },
   "source": [
    "### Librerías"
   ]
  },
  {
   "cell_type": "code",
   "execution_count": 1,
   "id": "82e3153a-c3ed-43d5-8b76-f7210c4d3f91",
   "metadata": {},
   "outputs": [],
   "source": [
    "from owslib.wfs import WebFeatureService # obtención del WFS en línea\n",
    "from geojson import dump                 # exportación de .geojson\n",
    "import requests                          # herramienta para solicitudes HTTP\n",
    "import fiona                             # herramienta I/O para datos GIS\n",
    "from shapely.geometry import shape, mapping # geometrias\n",
    "import fiona.transform                   # reproyecciones\n",
    "from fiona import crs                    # sistemas de cordenadas y funciones\n",
    "from tqdm import tqdm                    # barra de progreso para la generación de .gpkg"
   ]
  },
  {
   "cell_type": "markdown",
   "id": "5e6403a1-c4af-4c6d-aeaf-33cd47149be8",
   "metadata": {},
   "source": [
    "## Obtención de datos\n",
    "En el [sitio web del SNIT](https://www.snitcr.go.cr/) podemos obtener la url de los WFS que necesitaremos. Una vez las tenemos, podemos consultar las capas que vamos a utilizar en esta pŕactica."
   ]
  },
  {
   "cell_type": "code",
   "execution_count": 2,
   "id": "431a2ae8-143e-4f1b-a7fb-0deeebac0cd7",
   "metadata": {},
   "outputs": [
    {
     "data": {
      "text/plain": [
       "['IGN_5:forestal2017_5k',\n",
       " 'IGN_5:indice_5000',\n",
       " 'IGN_5:cultivos2017_5k',\n",
       " 'IGN_5:curvas_5000',\n",
       " 'IGN_5:delimitacion2017_5k',\n",
       " 'IGN_5:edificaciones2017_5k',\n",
       " 'IGN_5:hidrografia_5000',\n",
       " 'IGN_5:limitecantonal_5k',\n",
       " 'IGN_5:limitedistrital_5k',\n",
       " 'IGN_5:limiteprovincial_5k',\n",
       " 'IGN_5:linea_costa_5000',\n",
       " 'IGN_5:pastos2017_5k',\n",
       " 'IGN_5:urbano_5000',\n",
       " 'IGN_5:vias_5000']"
      ]
     },
     "execution_count": 2,
     "metadata": {},
     "output_type": "execute_result"
    }
   ],
   "source": [
    "wfs_cartografia_1_5mil = WebFeatureService(url='https://geos.snitcr.go.cr/be/IGN_5/wfs?', version='1.1.0')\n",
    "list(wfs_cartografia_1_5mil.contents)  # para visualizar el contenido"
   ]
  },
  {
   "cell_type": "markdown",
   "id": "4a27c12c-708f-40da-ac03-a94d07fb5d3d",
   "metadata": {},
   "source": [
    "De acá, la capa 'IGN_5:limitecantonal_5k' es la que nos resulta de interés. Procedemos a descargar la capa con las divisiones cantonales."
   ]
  },
  {
   "cell_type": "code",
   "execution_count": 3,
   "id": "04f132ab-4b41-4f46-85aa-49a58132a237",
   "metadata": {},
   "outputs": [],
   "source": [
    "# Solicitud de capa WFS de límite cantonal mediante GET, para retornarse como JSON\n",
    "\n",
    "# Parámetros de la solicitud\n",
    "params = dict(service='WFS',\n",
    "              version='1.1.0', \n",
    "              request='GetFeature', \n",
    "              typeName='IGN_5:limitecantonal_5k',   # la de interés\n",
    "              srsName='urn:ogc:def:crs:EPSG::4326',\n",
    "              outputFormat='json')\n",
    "\n",
    "# Solicitud\n",
    "response = requests.get(\"https://geos.snitcr.go.cr/be/IGN_5/wfs?\", params=params)\n",
    "\n",
    "# Descarga de la respuesta en un archivo GeoJSON\n",
    "\n",
    "with open('./datos/limite_cantonal.geojson', 'w') as file:\n",
    "    dump(response.json(), file)"
   ]
  },
  {
   "cell_type": "markdown",
   "id": "f6d13c84-4f83-491c-b33e-f01efbe5267b",
   "metadata": {},
   "source": [
    "Guardamos esta capa en el archivo 'limite_cantonal.geojson'\n",
    "\n",
    "Hacemos lo mismo para obtener la información de las carreteras."
   ]
  },
  {
   "cell_type": "code",
   "execution_count": 4,
   "id": "99be68b3-96dc-40e6-8811-57a85bbad953",
   "metadata": {},
   "outputs": [
    {
     "data": {
      "text/plain": [
       "['IGN_200:aeropuertointernacional_200k',\n",
       " 'IGN_200:aerodromos_200k',\n",
       " 'IGN_200:bordecostarica_200k',\n",
       " 'IGN_200:cotafotogrametrica_200k',\n",
       " 'IGN_200:curvas_de_nivel_200k',\n",
       " 'IGN_200:edificaciones_y_construcciones_200k',\n",
       " 'IGN_200:embalses_200k',\n",
       " 'IGN_200:estacionferroviaria_200k',\n",
       " 'IGN_200:hojas_200_completas',\n",
       " 'IGN_200:lago_o_laguna_200k',\n",
       " 'IGN_200:Laguna_Intermitente_1_200mil',\n",
       " 'IGN_200:lineas_de_costa_200k',\n",
       " 'IGN_200:muelle_200k',\n",
       " 'IGN_200:redvial_200k',\n",
       " 'IGN_200:reddrenaje_200k',\n",
       " 'IGN_200:salinas_200k',\n",
       " 'IGN_200:viaferrea_200k']"
      ]
     },
     "execution_count": 4,
     "metadata": {},
     "output_type": "execute_result"
    }
   ],
   "source": [
    "wfs_cartografia_1_200mil = WebFeatureService(url='https://geos.snitcr.go.cr/be/IGN_200/wfs?version=1.1.0', version='1.1.0')\n",
    "list(wfs_cartografia_1_200mil.contents)"
   ]
  },
  {
   "cell_type": "code",
   "execution_count": 5,
   "id": "554257ee-6204-4255-bc44-8dce9d43824d",
   "metadata": {},
   "outputs": [],
   "source": [
    "# Solicitud de capa WFS de red vial mediante GET, para retornarse como JSON\n",
    "\n",
    "# Parámetros de la solicitud\n",
    "params = dict(service='WFS',\n",
    "              version='1.1.0', \n",
    "              request='GetFeature', \n",
    "              typeName='IGN_200:redvial_200k',       # la de interés\n",
    "              srsName='urn:ogc:def:crs:EPSG::4326',\n",
    "              outputFormat='json')\n",
    "\n",
    "# Solicitud\n",
    "response = requests.get(\"https://geos.snitcr.go.cr/be/IGN_200/wfs?version=1.1.0\", params=params)\n",
    "\n",
    "# Descarga de la respuesta en un archivo GeoJSON\n",
    "\n",
    "with open('./datos/red_vial.geojson', 'w') as file:\n",
    "    dump(response.json(), file)"
   ]
  },
  {
   "cell_type": "markdown",
   "id": "f83ac8d7-aac5-4c66-ae99-de50e1cbd0b3",
   "metadata": {},
   "source": [
    "La capa de las carreteras la guardamos como 'red_vial.geojson'"
   ]
  },
  {
   "cell_type": "markdown",
   "id": "b1ef5f0f-8fbf-45fc-bfe7-8ca282615aab",
   "metadata": {},
   "source": [
    "## Lectura de los datos con fiona"
   ]
  },
  {
   "cell_type": "code",
   "execution_count": 6,
   "id": "b859a4da-e130-4d2c-bf41-8062d15e4c1d",
   "metadata": {},
   "outputs": [],
   "source": [
    "cantones = fiona.open('./datos/limite_cantonal.geojson')"
   ]
  },
  {
   "cell_type": "markdown",
   "id": "c6770fef-039c-45e4-a941-b3e307f0f467",
   "metadata": {
    "tags": []
   },
   "source": [
    "## Intersección"
   ]
  },
  {
   "cell_type": "markdown",
   "id": "26b61347-d736-4139-99ca-b1e798a4697e",
   "metadata": {},
   "source": [
    "El siguiente código calcula la desidad de carreteras para cada cantón, y genera un archivo .gpkg que contiene la información."
   ]
  },
  {
   "cell_type": "code",
   "execution_count": 7,
   "id": "905e2071-b94c-4068-af83-f1dd34e70101",
   "metadata": {
    "tags": []
   },
   "outputs": [
    {
     "name": "stderr",
     "output_type": "stream",
     "text": [
      "100%|██████████| 82/82 [12:21<00:00,  9.04s/it]\n"
     ]
    }
   ],
   "source": [
    "schema_final = {'geometry': 'Unknown',\n",
    "                'properties': {'total_long_vias': 'float',\n",
    "                              'area': 'float',\n",
    "                              'densidad_vial': 'float'}}\n",
    "\n",
    "with fiona.collection('./datos/densidad_vial.gpkg',\n",
    "                      mode='w',\n",
    "                      schema=schema_final,\n",
    "                      driver='GPKG',\n",
    "                      crs=fiona.crs.from_epsg(4326),\n",
    "                      layer='densidad-vial') as collection, \\\n",
    "    fiona.open('./datos/limite_cantonal.geojson') as cantones, \\\n",
    "    fiona.open('./datos/red_vial.geojson') as vias:\n",
    "    for canton in tqdm(cantones):\n",
    "        total_long_vias = 0\n",
    "        # Se transforma la geometría al EPSG oficial de CR para medir en metros.\n",
    "        geometria_canton = shape(fiona.transform.transform_geom('EPSG:4326', 'EPSG:5367', canton['geometry']))\n",
    "        for via in vias:\n",
    "            # Esto calcula, para cada cantón y cada vía del país, la longitud de su intersección.\n",
    "            geometria_calle = shape(fiona.transform.transform_geom('EPSG:4326', 'EPSG:5367', via['geometry']))\n",
    "            total_long_vias += geometria_canton.intersection(geometria_calle).length / 1000 # dividimos entre 1000 para pasar de m a km\n",
    "        area = geometria_canton.area / 1000000 # viene en m^2, lo ajustamos a km^2\n",
    "        densidad_vial = total_long_vias / area\n",
    "        collection.write({\n",
    "            'geometry': canton['geometry'],\n",
    "            'properties': {'total_long_vias': total_long_vias,\n",
    "                          'area': area,\n",
    "                          'densidad_vial': densidad_vial}\n",
    "        })\n",
    "                "
   ]
  }
 ],
 "metadata": {
  "kernelspec": {
   "display_name": "Python 3 (ipykernel)",
   "language": "python",
   "name": "python3"
  },
  "language_info": {
   "codemirror_mode": {
    "name": "ipython",
    "version": 3
   },
   "file_extension": ".py",
   "mimetype": "text/x-python",
   "name": "python",
   "nbconvert_exporter": "python",
   "pygments_lexer": "ipython3",
   "version": "3.8.8"
  }
 },
 "nbformat": 4,
 "nbformat_minor": 5
}
